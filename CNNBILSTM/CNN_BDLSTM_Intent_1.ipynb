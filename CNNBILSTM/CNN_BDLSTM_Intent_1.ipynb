{
  "nbformat": 4,
  "nbformat_minor": 0,
  "metadata": {
    "colab": {
      "name": "CNN_BDLSTM_M1.ipynb",
      "provenance": [],
      "collapsed_sections": []
    },
    "kernelspec": {
      "name": "python3",
      "display_name": "Python 3"
    },
    "language_info": {
      "name": "python"
    },
    "accelerator": "GPU"
  },
  "cells": [
    {
      "cell_type": "code",
      "metadata": {
        "colab": {
          "base_uri": "https://localhost:8080/"
        },
        "id": "guott3kGTrxa",
        "outputId": "e9b1ed7b-c119-460a-f8e3-50acbf180f23"
      },
      "source": [
        "from google.colab import drive\n",
        "drive.mount('/content/drive')"
      ],
      "execution_count": null,
      "outputs": [
        {
          "output_type": "stream",
          "name": "stdout",
          "text": [
            "Mounted at /content/drive\n"
          ]
        }
      ]
    },
    {
      "cell_type": "code",
      "source": [
        "from keras.preprocessing import sequence\n",
        "from keras.models import Sequential\n",
        "from keras.layers import Dense, Dropout, Activation\n",
        "from keras.layers import Embedding\n",
        "from keras.layers import LSTM\n",
        "from keras.layers import Conv1D, MaxPooling1D\n",
        "from keras.layers.pooling import GlobalMaxPooling1D\n",
        "from keras.layers import Bidirectional\n",
        "from keras import initializers, regularizers, optimizers, layers\n",
        "from keras.models import load_model\n",
        "from sklearn import metrics\n",
        "from keras.utils.np_utils import to_categorical\n",
        "from keras.preprocessing.text import Tokenizer\n",
        "from keras.preprocessing.sequence import pad_sequences\n",
        "from sklearn.model_selection import train_test_split\n",
        "import numpy as np\n",
        "import pandas as pd\n",
        "import os\n",
        "import tensorflow as tf\n",
        "from tensorflow import keras"
      ],
      "metadata": {
        "id": "T5JHY-ON4jsi"
      },
      "execution_count": null,
      "outputs": []
    },
    {
      "cell_type": "code",
      "metadata": {
        "id": "OArVbJGpFtsE"
      },
      "source": [
        "def loadData_Tokenizer(X_train, X_val, X_test, MAX_NB_WORDS=5000,MAX_SEQUENCE_LENGTH=128):\n",
        "    np.random.seed(7)\n",
        "    text = np.array(X_train)\n",
        "    tokenizer = Tokenizer(num_words=MAX_NB_WORDS)\n",
        "    tokenizer.fit_on_texts(text)\n",
        "    sequences = tokenizer.texts_to_sequences(text)\n",
        "    word_index = tokenizer.word_index\n",
        "    text = pad_sequences(sequences, maxlen=MAX_SEQUENCE_LENGTH)\n",
        "    X_train = text\n",
        "    sequences = tokenizer.texts_to_sequences(X_val)\n",
        "    X_val = pad_sequences(sequences, maxlen=MAX_SEQUENCE_LENGTH)\n",
        "\n",
        "    sequences = tokenizer.texts_to_sequences(X_test)\n",
        "    X_test = pad_sequences(sequences, maxlen=MAX_SEQUENCE_LENGTH)\n",
        "\n",
        "\n",
        "    embeddings_index = {}\n",
        "    with open(os.path.join('/content/drive/MyDrive/Classroom', 'glove.6B.100d.txt')) as f:\n",
        "      for line in f:\n",
        "          values = line.split()\n",
        "          word = values[0]\n",
        "          try:\n",
        "              coefs = np.asarray(values[1:], dtype='float32')\n",
        "          except:\n",
        "             pass\n",
        "          embeddings_index[word] = coefs\n",
        "      f.close()\n",
        "    return (X_train, X_val,X_test, word_index,embeddings_index)"
      ],
      "execution_count": null,
      "outputs": []
    },
    {
      "cell_type": "code",
      "metadata": {
        "id": "Q8lZ3R3_Ge5y"
      },
      "source": [
        "def Build_Model_RCNN_Text(word_index, embeddings_index, nclasses, MAX_SEQUENCE_LENGTH=128, EMBEDDING_DIM=100):\n",
        "\n",
        "    kernel_size = 4\n",
        "    filters = 100\n",
        "    pool_size = 5\n",
        "    gru_node = 128\n",
        "\n",
        "    embedding_matrix = np.random.random((len(word_index) + 1, EMBEDDING_DIM))\n",
        "    for word, i in word_index.items():\n",
        "        embedding_vector = embeddings_index.get(word)\n",
        "        if embedding_vector is not None:\n",
        "            # words not found in embedding index will be all-zeros.\n",
        "            if len(embedding_matrix[i]) !=len(embedding_vector):\n",
        "                print(\"could not broadcast input array from shape\",str(len(embedding_matrix[i])),\n",
        "                                 \"into shape\",str(len(embedding_vector)),\" Please make sure your\"\n",
        "                                 \" EMBEDDING_DIM is equal to embedding_vector file ,GloVe,\")\n",
        "                exit(1)\n",
        "\n",
        "            embedding_matrix[i] = embedding_vector\n",
        "\n",
        " \n",
        "    model = Sequential()\n",
        "    model.add(Embedding(len(word_index) + 1,\n",
        "                                EMBEDDING_DIM,\n",
        "                                weights=[embedding_matrix],\n",
        "                                input_length=MAX_SEQUENCE_LENGTH,\n",
        "                                trainable=False))\n",
        "    model.add(Conv1D(filters=100, kernel_size=5,padding='same', activation='relu'))\n",
        "    model.add(MaxPooling1D(pool_size=2))\n",
        "    model.add(Bidirectional(LSTM(128, return_sequences=True,name='lstm_layer',dropout=0.3,recurrent_dropout=0.5)))\n",
        "    #model.add(Bidirectional(LSTM(128, return_sequences=True,name='lstm_layer',dropout=0.4,recurrent_dropout=0.5)))\n",
        "    model.add(GlobalMaxPooling1D())\n",
        "    model.add(Dense(units=512, activation=\"relu\",\n",
        "    kernel_regularizer=regularizers.l1_l2(l1=1e-5, l2=1e-4),\n",
        "    bias_regularizer=regularizers.l2(1e-4),\n",
        "    activity_regularizer=regularizers.l2(1e-5)))\n",
        "    model.add(Dropout(rate=0.4))\n",
        "    model.add(Dense(3, activation=\"softmax\"))\n",
        "    opt = keras.optimizers.Adam(learning_rate=0.0003,beta_1=0.9,\n",
        "    beta_2=0.999,\n",
        "    epsilon=1e-7,\n",
        "    amsgrad=False,\n",
        "    name=\"Adam\")\n",
        "    model.compile(loss='categorical_crossentropy',\n",
        "                  optimizer= opt,\n",
        "                  metrics=['accuracy'])\n",
        "\n",
        "    return model"
      ],
      "execution_count": null,
      "outputs": []
    },
    {
      "cell_type": "code",
      "metadata": {
        "id": "QAB1J1yBqcCk"
      },
      "source": [
        "def get_data_train():\n",
        "  df = pd.read_csv('/content/Train_data_intent1.csv')\n",
        "  df.head()\n",
        "  X=df['body']\n",
        "  Y = df['intent_1'].astype(\"category\")\n",
        "  cat_types= Y.cat.categories\n",
        "  Y_nids = Y.cat.codes\n",
        "  Y = to_categorical(Y_nids, num_classes=3)\n",
        "  return X, Y"
      ],
      "execution_count": null,
      "outputs": []
    },
    {
      "cell_type": "code",
      "source": [
        "def get_data_val():\n",
        "  df = pd.read_csv('/content/Valid_data_intent1.csv')\n",
        "  df.head()\n",
        "  X_v = df['body']\n",
        "  Y = df['intent_1'].astype(\"category\")\n",
        "  cat_types= Y.cat.categories\n",
        "  Y_nids = Y.cat.codes\n",
        "  y_v = to_categorical(Y_nids, num_classes=3)\n",
        "  return X_v, y_v"
      ],
      "metadata": {
        "id": "haHp1fAr6vnN"
      },
      "execution_count": null,
      "outputs": []
    },
    {
      "cell_type": "code",
      "metadata": {
        "id": "uts74FvlRwJq"
      },
      "source": [
        "def get_data_test():\n",
        "  df = pd.read_csv('/content/Test_data_intent1.csv')\n",
        "  df.head()\n",
        "  X_v = df['body']\n",
        "  Y = df['intent_1'].astype(\"category\")\n",
        "  cat_types= Y.cat.categories\n",
        "  Y_nids = Y.cat.codes\n",
        "  y_v = to_categorical(Y_nids, num_classes=3)\n",
        "  return X_v, y_v\n"
      ],
      "execution_count": null,
      "outputs": []
    },
    {
      "cell_type": "code",
      "metadata": {
        "id": "jt4R19XuGsx0"
      },
      "source": [
        "#X_train, X_test1, y_train, y_test = train_test_split(X,Y, test_size=0.2, random_state=42)\n",
        "X_train,y_train= get_data_train()\n",
        "X_test,y_test= get_data_test()\n",
        "X_val,y_val= get_data_val()\n",
        "\n",
        "XTRAIN,XVAL,XTEST, word_index, embeddings_index = loadData_Tokenizer(X_train,X_val, X_test)"
      ],
      "execution_count": null,
      "outputs": []
    },
    {
      "cell_type": "code",
      "source": [
        "nclasses=3\n",
        "\n",
        "model_RCNNi1 = Build_Model_RCNN_Text(word_index,embeddings_index, nclasses)\n",
        "\n",
        "\n",
        "model_RCNNi1.summary()"
      ],
      "metadata": {
        "colab": {
          "base_uri": "https://localhost:8080/"
        },
        "id": "4hilSS7xtQn8",
        "outputId": "1f5b72a9-1fbc-40b1-ec9e-bd6b7bd20a25"
      },
      "execution_count": null,
      "outputs": [
        {
          "output_type": "stream",
          "name": "stdout",
          "text": [
            "WARNING:tensorflow:Layer lstm_layer will not use cuDNN kernels since it doesn't meet the criteria. It will use a generic GPU kernel as fallback when running on GPU.\n",
            "WARNING:tensorflow:Layer lstm_layer will not use cuDNN kernels since it doesn't meet the criteria. It will use a generic GPU kernel as fallback when running on GPU.\n",
            "WARNING:tensorflow:Layer lstm_layer will not use cuDNN kernels since it doesn't meet the criteria. It will use a generic GPU kernel as fallback when running on GPU.\n",
            "Model: \"sequential_2\"\n",
            "_________________________________________________________________\n",
            " Layer (type)                Output Shape              Param #   \n",
            "=================================================================\n",
            " embedding_2 (Embedding)     (None, 128, 100)          73500     \n",
            "                                                                 \n",
            " conv1d_2 (Conv1D)           (None, 128, 100)          50100     \n",
            "                                                                 \n",
            " max_pooling1d_2 (MaxPooling  (None, 64, 100)          0         \n",
            " 1D)                                                             \n",
            "                                                                 \n",
            " bidirectional_2 (Bidirectio  (None, 64, 256)          234496    \n",
            " nal)                                                            \n",
            "                                                                 \n",
            " global_max_pooling1d_2 (Glo  (None, 256)              0         \n",
            " balMaxPooling1D)                                                \n",
            "                                                                 \n",
            " dense_4 (Dense)             (None, 512)               131584    \n",
            "                                                                 \n",
            " dropout_2 (Dropout)         (None, 512)               0         \n",
            "                                                                 \n",
            " dense_5 (Dense)             (None, 3)                 1539      \n",
            "                                                                 \n",
            "=================================================================\n",
            "Total params: 491,219\n",
            "Trainable params: 417,719\n",
            "Non-trainable params: 73,500\n",
            "_________________________________________________________________\n"
          ]
        }
      ]
    },
    {
      "cell_type": "code",
      "metadata": {
        "colab": {
          "base_uri": "https://localhost:8080/"
        },
        "id": "ujDz5F_iGx6m",
        "outputId": "8b4a6bae-4768-464c-f24f-47f5c1299d6c"
      },
      "source": [
        "checkpointer = tf.keras.callbacks.ModelCheckpoint(filepath= '/content/drive/MyDrive/Classroom', monitor='val_loss', verbose=2, save_best_only=True, save_weights_only=False, mode='auto', period=1)\n",
        "\n",
        "model_RCNNi1.fit(XTRAIN, y_train,\n",
        "                              validation_data=(XVAL,y_val),\n",
        "                              epochs=30,\n",
        "                              batch_size=12,\n",
        "                              verbose=2, callbacks=[checkpointer])"
      ],
      "execution_count": null,
      "outputs": [
        {
          "output_type": "stream",
          "name": "stdout",
          "text": [
            "WARNING:tensorflow:`period` argument is deprecated. Please use `save_freq` to specify the frequency in number of batches seen.\n",
            "Epoch 1/30\n",
            "\n",
            "Epoch 00001: val_loss improved from inf to 0.86771, saving model to /content/drive/MyDrive/Classroom\n",
            "INFO:tensorflow:Assets written to: /content/drive/MyDrive/Classroom/assets\n"
          ]
        },
        {
          "output_type": "stream",
          "name": "stderr",
          "text": [
            "WARNING:absl:<keras.layers.recurrent.LSTMCell object at 0x7f6e39b89ad0> has the same name 'LSTMCell' as a built-in Keras object. Consider renaming <class 'keras.layers.recurrent.LSTMCell'> to avoid naming conflicts when loading with `tf.keras.models.load_model`. If renaming is not possible, pass the object in the `custom_objects` parameter of the load function.\n",
            "WARNING:absl:<keras.layers.recurrent.LSTMCell object at 0x7f6e36a5d850> has the same name 'LSTMCell' as a built-in Keras object. Consider renaming <class 'keras.layers.recurrent.LSTMCell'> to avoid naming conflicts when loading with `tf.keras.models.load_model`. If renaming is not possible, pass the object in the `custom_objects` parameter of the load function.\n"
          ]
        },
        {
          "output_type": "stream",
          "name": "stdout",
          "text": [
            "40/40 - 48s - loss: 0.9832 - accuracy: 0.5941 - val_loss: 0.8677 - val_accuracy: 0.6200 - 48s/epoch - 1s/step\n",
            "Epoch 2/30\n",
            "\n",
            "Epoch 00002: val_loss improved from 0.86771 to 0.81637, saving model to /content/drive/MyDrive/Classroom\n",
            "INFO:tensorflow:Assets written to: /content/drive/MyDrive/Classroom/assets\n"
          ]
        },
        {
          "output_type": "stream",
          "name": "stderr",
          "text": [
            "INFO:tensorflow:Assets written to: /content/drive/MyDrive/Classroom/assets\n",
            "WARNING:absl:<keras.layers.recurrent.LSTMCell object at 0x7f6e39b89ad0> has the same name 'LSTMCell' as a built-in Keras object. Consider renaming <class 'keras.layers.recurrent.LSTMCell'> to avoid naming conflicts when loading with `tf.keras.models.load_model`. If renaming is not possible, pass the object in the `custom_objects` parameter of the load function.\n",
            "WARNING:absl:<keras.layers.recurrent.LSTMCell object at 0x7f6e36a5d850> has the same name 'LSTMCell' as a built-in Keras object. Consider renaming <class 'keras.layers.recurrent.LSTMCell'> to avoid naming conflicts when loading with `tf.keras.models.load_model`. If renaming is not possible, pass the object in the `custom_objects` parameter of the load function.\n"
          ]
        },
        {
          "output_type": "stream",
          "name": "stdout",
          "text": [
            "40/40 - 47s - loss: 0.8266 - accuracy: 0.6464 - val_loss: 0.8164 - val_accuracy: 0.6000 - 47s/epoch - 1s/step\n",
            "Epoch 3/30\n",
            "\n",
            "Epoch 00003: val_loss improved from 0.81637 to 0.76933, saving model to /content/drive/MyDrive/Classroom\n",
            "INFO:tensorflow:Assets written to: /content/drive/MyDrive/Classroom/assets\n"
          ]
        },
        {
          "output_type": "stream",
          "name": "stderr",
          "text": [
            "INFO:tensorflow:Assets written to: /content/drive/MyDrive/Classroom/assets\n",
            "WARNING:absl:<keras.layers.recurrent.LSTMCell object at 0x7f6e39b89ad0> has the same name 'LSTMCell' as a built-in Keras object. Consider renaming <class 'keras.layers.recurrent.LSTMCell'> to avoid naming conflicts when loading with `tf.keras.models.load_model`. If renaming is not possible, pass the object in the `custom_objects` parameter of the load function.\n",
            "WARNING:absl:<keras.layers.recurrent.LSTMCell object at 0x7f6e36a5d850> has the same name 'LSTMCell' as a built-in Keras object. Consider renaming <class 'keras.layers.recurrent.LSTMCell'> to avoid naming conflicts when loading with `tf.keras.models.load_model`. If renaming is not possible, pass the object in the `custom_objects` parameter of the load function.\n"
          ]
        },
        {
          "output_type": "stream",
          "name": "stdout",
          "text": [
            "40/40 - 60s - loss: 0.7790 - accuracy: 0.6841 - val_loss: 0.7693 - val_accuracy: 0.6200 - 60s/epoch - 2s/step\n",
            "Epoch 4/30\n",
            "\n",
            "Epoch 00004: val_loss improved from 0.76933 to 0.70725, saving model to /content/drive/MyDrive/Classroom\n",
            "INFO:tensorflow:Assets written to: /content/drive/MyDrive/Classroom/assets\n"
          ]
        },
        {
          "output_type": "stream",
          "name": "stderr",
          "text": [
            "INFO:tensorflow:Assets written to: /content/drive/MyDrive/Classroom/assets\n",
            "WARNING:absl:<keras.layers.recurrent.LSTMCell object at 0x7f6e39b89ad0> has the same name 'LSTMCell' as a built-in Keras object. Consider renaming <class 'keras.layers.recurrent.LSTMCell'> to avoid naming conflicts when loading with `tf.keras.models.load_model`. If renaming is not possible, pass the object in the `custom_objects` parameter of the load function.\n",
            "WARNING:absl:<keras.layers.recurrent.LSTMCell object at 0x7f6e36a5d850> has the same name 'LSTMCell' as a built-in Keras object. Consider renaming <class 'keras.layers.recurrent.LSTMCell'> to avoid naming conflicts when loading with `tf.keras.models.load_model`. If renaming is not possible, pass the object in the `custom_objects` parameter of the load function.\n"
          ]
        },
        {
          "output_type": "stream",
          "name": "stdout",
          "text": [
            "40/40 - 50s - loss: 0.7120 - accuracy: 0.7029 - val_loss: 0.7072 - val_accuracy: 0.6600 - 50s/epoch - 1s/step\n",
            "Epoch 5/30\n",
            "\n",
            "Epoch 00005: val_loss improved from 0.70725 to 0.69371, saving model to /content/drive/MyDrive/Classroom\n",
            "INFO:tensorflow:Assets written to: /content/drive/MyDrive/Classroom/assets\n"
          ]
        },
        {
          "output_type": "stream",
          "name": "stderr",
          "text": [
            "INFO:tensorflow:Assets written to: /content/drive/MyDrive/Classroom/assets\n",
            "WARNING:absl:<keras.layers.recurrent.LSTMCell object at 0x7f6e39b89ad0> has the same name 'LSTMCell' as a built-in Keras object. Consider renaming <class 'keras.layers.recurrent.LSTMCell'> to avoid naming conflicts when loading with `tf.keras.models.load_model`. If renaming is not possible, pass the object in the `custom_objects` parameter of the load function.\n",
            "WARNING:absl:<keras.layers.recurrent.LSTMCell object at 0x7f6e36a5d850> has the same name 'LSTMCell' as a built-in Keras object. Consider renaming <class 'keras.layers.recurrent.LSTMCell'> to avoid naming conflicts when loading with `tf.keras.models.load_model`. If renaming is not possible, pass the object in the `custom_objects` parameter of the load function.\n"
          ]
        },
        {
          "output_type": "stream",
          "name": "stdout",
          "text": [
            "40/40 - 59s - loss: 0.7001 - accuracy: 0.7301 - val_loss: 0.6937 - val_accuracy: 0.6600 - 59s/epoch - 1s/step\n",
            "Epoch 6/30\n",
            "\n",
            "Epoch 00006: val_loss improved from 0.69371 to 0.65161, saving model to /content/drive/MyDrive/Classroom\n",
            "INFO:tensorflow:Assets written to: /content/drive/MyDrive/Classroom/assets\n"
          ]
        },
        {
          "output_type": "stream",
          "name": "stderr",
          "text": [
            "INFO:tensorflow:Assets written to: /content/drive/MyDrive/Classroom/assets\n",
            "WARNING:absl:<keras.layers.recurrent.LSTMCell object at 0x7f6e39b89ad0> has the same name 'LSTMCell' as a built-in Keras object. Consider renaming <class 'keras.layers.recurrent.LSTMCell'> to avoid naming conflicts when loading with `tf.keras.models.load_model`. If renaming is not possible, pass the object in the `custom_objects` parameter of the load function.\n",
            "WARNING:absl:<keras.layers.recurrent.LSTMCell object at 0x7f6e36a5d850> has the same name 'LSTMCell' as a built-in Keras object. Consider renaming <class 'keras.layers.recurrent.LSTMCell'> to avoid naming conflicts when loading with `tf.keras.models.load_model`. If renaming is not possible, pass the object in the `custom_objects` parameter of the load function.\n"
          ]
        },
        {
          "output_type": "stream",
          "name": "stdout",
          "text": [
            "40/40 - 58s - loss: 0.6017 - accuracy: 0.7657 - val_loss: 0.6516 - val_accuracy: 0.7200 - 58s/epoch - 1s/step\n",
            "Epoch 7/30\n",
            "\n",
            "Epoch 00007: val_loss improved from 0.65161 to 0.64228, saving model to /content/drive/MyDrive/Classroom\n",
            "INFO:tensorflow:Assets written to: /content/drive/MyDrive/Classroom/assets\n"
          ]
        },
        {
          "output_type": "stream",
          "name": "stderr",
          "text": [
            "INFO:tensorflow:Assets written to: /content/drive/MyDrive/Classroom/assets\n",
            "WARNING:absl:<keras.layers.recurrent.LSTMCell object at 0x7f6e39b89ad0> has the same name 'LSTMCell' as a built-in Keras object. Consider renaming <class 'keras.layers.recurrent.LSTMCell'> to avoid naming conflicts when loading with `tf.keras.models.load_model`. If renaming is not possible, pass the object in the `custom_objects` parameter of the load function.\n",
            "WARNING:absl:<keras.layers.recurrent.LSTMCell object at 0x7f6e36a5d850> has the same name 'LSTMCell' as a built-in Keras object. Consider renaming <class 'keras.layers.recurrent.LSTMCell'> to avoid naming conflicts when loading with `tf.keras.models.load_model`. If renaming is not possible, pass the object in the `custom_objects` parameter of the load function.\n"
          ]
        },
        {
          "output_type": "stream",
          "name": "stdout",
          "text": [
            "40/40 - 41s - loss: 0.5712 - accuracy: 0.7782 - val_loss: 0.6423 - val_accuracy: 0.7600 - 41s/epoch - 1s/step\n",
            "Epoch 8/30\n",
            "\n",
            "Epoch 00008: val_loss improved from 0.64228 to 0.56454, saving model to /content/drive/MyDrive/Classroom\n",
            "INFO:tensorflow:Assets written to: /content/drive/MyDrive/Classroom/assets\n"
          ]
        },
        {
          "output_type": "stream",
          "name": "stderr",
          "text": [
            "INFO:tensorflow:Assets written to: /content/drive/MyDrive/Classroom/assets\n",
            "WARNING:absl:<keras.layers.recurrent.LSTMCell object at 0x7f6e39b89ad0> has the same name 'LSTMCell' as a built-in Keras object. Consider renaming <class 'keras.layers.recurrent.LSTMCell'> to avoid naming conflicts when loading with `tf.keras.models.load_model`. If renaming is not possible, pass the object in the `custom_objects` parameter of the load function.\n",
            "WARNING:absl:<keras.layers.recurrent.LSTMCell object at 0x7f6e36a5d850> has the same name 'LSTMCell' as a built-in Keras object. Consider renaming <class 'keras.layers.recurrent.LSTMCell'> to avoid naming conflicts when loading with `tf.keras.models.load_model`. If renaming is not possible, pass the object in the `custom_objects` parameter of the load function.\n"
          ]
        },
        {
          "output_type": "stream",
          "name": "stdout",
          "text": [
            "40/40 - 43s - loss: 0.4969 - accuracy: 0.8285 - val_loss: 0.5645 - val_accuracy: 0.8200 - 43s/epoch - 1s/step\n",
            "Epoch 9/30\n",
            "\n",
            "Epoch 00009: val_loss did not improve from 0.56454\n",
            "40/40 - 29s - loss: 0.4435 - accuracy: 0.8556 - val_loss: 0.7088 - val_accuracy: 0.6600 - 29s/epoch - 736ms/step\n",
            "Epoch 10/30\n",
            "\n",
            "Epoch 00010: val_loss did not improve from 0.56454\n",
            "40/40 - 29s - loss: 0.4308 - accuracy: 0.8556 - val_loss: 0.6046 - val_accuracy: 0.7600 - 29s/epoch - 725ms/step\n",
            "Epoch 11/30\n",
            "\n",
            "Epoch 00011: val_loss improved from 0.56454 to 0.49273, saving model to /content/drive/MyDrive/Classroom\n",
            "INFO:tensorflow:Assets written to: /content/drive/MyDrive/Classroom/assets\n"
          ]
        },
        {
          "output_type": "stream",
          "name": "stderr",
          "text": [
            "INFO:tensorflow:Assets written to: /content/drive/MyDrive/Classroom/assets\n",
            "WARNING:absl:<keras.layers.recurrent.LSTMCell object at 0x7f6e39b89ad0> has the same name 'LSTMCell' as a built-in Keras object. Consider renaming <class 'keras.layers.recurrent.LSTMCell'> to avoid naming conflicts when loading with `tf.keras.models.load_model`. If renaming is not possible, pass the object in the `custom_objects` parameter of the load function.\n",
            "WARNING:absl:<keras.layers.recurrent.LSTMCell object at 0x7f6e36a5d850> has the same name 'LSTMCell' as a built-in Keras object. Consider renaming <class 'keras.layers.recurrent.LSTMCell'> to avoid naming conflicts when loading with `tf.keras.models.load_model`. If renaming is not possible, pass the object in the `custom_objects` parameter of the load function.\n"
          ]
        },
        {
          "output_type": "stream",
          "name": "stdout",
          "text": [
            "40/40 - 41s - loss: 0.3326 - accuracy: 0.9100 - val_loss: 0.4927 - val_accuracy: 0.8400 - 41s/epoch - 1s/step\n",
            "Epoch 12/30\n",
            "\n",
            "Epoch 00012: val_loss did not improve from 0.49273\n",
            "40/40 - 29s - loss: 0.3416 - accuracy: 0.8975 - val_loss: 0.6681 - val_accuracy: 0.6800 - 29s/epoch - 715ms/step\n",
            "Epoch 13/30\n",
            "\n",
            "Epoch 00013: val_loss improved from 0.49273 to 0.47994, saving model to /content/drive/MyDrive/Classroom\n",
            "INFO:tensorflow:Assets written to: /content/drive/MyDrive/Classroom/assets\n"
          ]
        },
        {
          "output_type": "stream",
          "name": "stderr",
          "text": [
            "INFO:tensorflow:Assets written to: /content/drive/MyDrive/Classroom/assets\n",
            "WARNING:absl:<keras.layers.recurrent.LSTMCell object at 0x7f6e39b89ad0> has the same name 'LSTMCell' as a built-in Keras object. Consider renaming <class 'keras.layers.recurrent.LSTMCell'> to avoid naming conflicts when loading with `tf.keras.models.load_model`. If renaming is not possible, pass the object in the `custom_objects` parameter of the load function.\n",
            "WARNING:absl:<keras.layers.recurrent.LSTMCell object at 0x7f6e36a5d850> has the same name 'LSTMCell' as a built-in Keras object. Consider renaming <class 'keras.layers.recurrent.LSTMCell'> to avoid naming conflicts when loading with `tf.keras.models.load_model`. If renaming is not possible, pass the object in the `custom_objects` parameter of the load function.\n"
          ]
        },
        {
          "output_type": "stream",
          "name": "stdout",
          "text": [
            "40/40 - 41s - loss: 0.2824 - accuracy: 0.9226 - val_loss: 0.4799 - val_accuracy: 0.8600 - 41s/epoch - 1s/step\n",
            "Epoch 14/30\n",
            "\n",
            "Epoch 00014: val_loss improved from 0.47994 to 0.42534, saving model to /content/drive/MyDrive/Classroom\n",
            "INFO:tensorflow:Assets written to: /content/drive/MyDrive/Classroom/assets\n"
          ]
        },
        {
          "output_type": "stream",
          "name": "stderr",
          "text": [
            "INFO:tensorflow:Assets written to: /content/drive/MyDrive/Classroom/assets\n",
            "WARNING:absl:<keras.layers.recurrent.LSTMCell object at 0x7f6e39b89ad0> has the same name 'LSTMCell' as a built-in Keras object. Consider renaming <class 'keras.layers.recurrent.LSTMCell'> to avoid naming conflicts when loading with `tf.keras.models.load_model`. If renaming is not possible, pass the object in the `custom_objects` parameter of the load function.\n",
            "WARNING:absl:<keras.layers.recurrent.LSTMCell object at 0x7f6e36a5d850> has the same name 'LSTMCell' as a built-in Keras object. Consider renaming <class 'keras.layers.recurrent.LSTMCell'> to avoid naming conflicts when loading with `tf.keras.models.load_model`. If renaming is not possible, pass the object in the `custom_objects` parameter of the load function.\n"
          ]
        },
        {
          "output_type": "stream",
          "name": "stdout",
          "text": [
            "40/40 - 42s - loss: 0.2440 - accuracy: 0.9456 - val_loss: 0.4253 - val_accuracy: 0.8800 - 42s/epoch - 1s/step\n",
            "Epoch 15/30\n",
            "\n",
            "Epoch 00015: val_loss improved from 0.42534 to 0.40061, saving model to /content/drive/MyDrive/Classroom\n",
            "INFO:tensorflow:Assets written to: /content/drive/MyDrive/Classroom/assets\n"
          ]
        },
        {
          "output_type": "stream",
          "name": "stderr",
          "text": [
            "INFO:tensorflow:Assets written to: /content/drive/MyDrive/Classroom/assets\n",
            "WARNING:absl:<keras.layers.recurrent.LSTMCell object at 0x7f6e39b89ad0> has the same name 'LSTMCell' as a built-in Keras object. Consider renaming <class 'keras.layers.recurrent.LSTMCell'> to avoid naming conflicts when loading with `tf.keras.models.load_model`. If renaming is not possible, pass the object in the `custom_objects` parameter of the load function.\n",
            "WARNING:absl:<keras.layers.recurrent.LSTMCell object at 0x7f6e36a5d850> has the same name 'LSTMCell' as a built-in Keras object. Consider renaming <class 'keras.layers.recurrent.LSTMCell'> to avoid naming conflicts when loading with `tf.keras.models.load_model`. If renaming is not possible, pass the object in the `custom_objects` parameter of the load function.\n"
          ]
        },
        {
          "output_type": "stream",
          "name": "stdout",
          "text": [
            "40/40 - 41s - loss: 0.2135 - accuracy: 0.9498 - val_loss: 0.4006 - val_accuracy: 0.9000 - 41s/epoch - 1s/step\n",
            "Epoch 16/30\n",
            "\n",
            "Epoch 00016: val_loss did not improve from 0.40061\n",
            "40/40 - 29s - loss: 0.1963 - accuracy: 0.9623 - val_loss: 0.4847 - val_accuracy: 0.8600 - 29s/epoch - 729ms/step\n",
            "Epoch 17/30\n",
            "\n",
            "Epoch 00017: val_loss did not improve from 0.40061\n",
            "40/40 - 28s - loss: 0.2010 - accuracy: 0.9540 - val_loss: 0.5270 - val_accuracy: 0.9000 - 28s/epoch - 709ms/step\n",
            "Epoch 18/30\n",
            "\n",
            "Epoch 00018: val_loss did not improve from 0.40061\n",
            "40/40 - 29s - loss: 0.1865 - accuracy: 0.9582 - val_loss: 0.5183 - val_accuracy: 0.8200 - 29s/epoch - 725ms/step\n",
            "Epoch 19/30\n",
            "\n",
            "Epoch 00019: val_loss did not improve from 0.40061\n",
            "40/40 - 29s - loss: 0.1473 - accuracy: 0.9791 - val_loss: 0.4606 - val_accuracy: 0.8800 - 29s/epoch - 716ms/step\n",
            "Epoch 20/30\n",
            "\n",
            "Epoch 00020: val_loss did not improve from 0.40061\n",
            "40/40 - 29s - loss: 0.1255 - accuracy: 0.9854 - val_loss: 0.5001 - val_accuracy: 0.8600 - 29s/epoch - 731ms/step\n",
            "Epoch 21/30\n",
            "\n",
            "Epoch 00021: val_loss did not improve from 0.40061\n",
            "40/40 - 30s - loss: 0.1469 - accuracy: 0.9728 - val_loss: 0.5285 - val_accuracy: 0.9000 - 30s/epoch - 745ms/step\n",
            "Epoch 22/30\n",
            "\n",
            "Epoch 00022: val_loss did not improve from 0.40061\n",
            "40/40 - 30s - loss: 0.1120 - accuracy: 0.9854 - val_loss: 0.5485 - val_accuracy: 0.8800 - 30s/epoch - 741ms/step\n",
            "Epoch 23/30\n",
            "\n",
            "Epoch 00023: val_loss did not improve from 0.40061\n",
            "40/40 - 29s - loss: 0.1076 - accuracy: 0.9895 - val_loss: 0.6207 - val_accuracy: 0.8600 - 29s/epoch - 731ms/step\n",
            "Epoch 24/30\n",
            "\n",
            "Epoch 00024: val_loss did not improve from 0.40061\n",
            "40/40 - 29s - loss: 0.0994 - accuracy: 0.9895 - val_loss: 0.6211 - val_accuracy: 0.8000 - 29s/epoch - 724ms/step\n",
            "Epoch 25/30\n",
            "\n",
            "Epoch 00025: val_loss did not improve from 0.40061\n",
            "40/40 - 29s - loss: 0.0904 - accuracy: 0.9937 - val_loss: 0.5698 - val_accuracy: 0.8400 - 29s/epoch - 737ms/step\n",
            "Epoch 26/30\n",
            "\n",
            "Epoch 00026: val_loss did not improve from 0.40061\n",
            "40/40 - 29s - loss: 0.1064 - accuracy: 0.9833 - val_loss: 0.5636 - val_accuracy: 0.8400 - 29s/epoch - 728ms/step\n",
            "Epoch 27/30\n",
            "\n",
            "Epoch 00027: val_loss did not improve from 0.40061\n",
            "40/40 - 30s - loss: 0.1057 - accuracy: 0.9833 - val_loss: 0.5444 - val_accuracy: 0.7600 - 30s/epoch - 741ms/step\n",
            "Epoch 28/30\n",
            "\n",
            "Epoch 00028: val_loss did not improve from 0.40061\n",
            "40/40 - 30s - loss: 0.1034 - accuracy: 0.9895 - val_loss: 0.6419 - val_accuracy: 0.8800 - 30s/epoch - 748ms/step\n",
            "Epoch 29/30\n",
            "\n",
            "Epoch 00029: val_loss did not improve from 0.40061\n",
            "40/40 - 30s - loss: 0.0911 - accuracy: 0.9895 - val_loss: 0.7638 - val_accuracy: 0.7600 - 30s/epoch - 755ms/step\n",
            "Epoch 30/30\n",
            "\n",
            "Epoch 00030: val_loss did not improve from 0.40061\n",
            "40/40 - 29s - loss: 0.1256 - accuracy: 0.9833 - val_loss: 0.6336 - val_accuracy: 0.8200 - 29s/epoch - 730ms/step\n"
          ]
        },
        {
          "output_type": "execute_result",
          "data": {
            "text/plain": [
              "<keras.callbacks.History at 0x7f6f2d2ff1d0>"
            ]
          },
          "metadata": {},
          "execution_count": 23
        }
      ]
    },
    {
      "cell_type": "code",
      "source": [
        "# evaluate the test accuracy , call evaluate method and give the data \n",
        "_, train_acc = model_RCNNi1.evaluate(XTRAIN, y_train)\n",
        "_, test_acc = model_RCNNi1.evaluate(XTEST, y_test)\n",
        "\n",
        "print(\"train acc\", train_acc)\n",
        "print(\"test acc\", test_acc)"
      ],
      "metadata": {
        "colab": {
          "base_uri": "https://localhost:8080/"
        },
        "id": "69oLSt947jxI",
        "outputId": "7f89c668-0219-4add-9f7a-e91225639d6d"
      },
      "execution_count": null,
      "outputs": [
        {
          "output_type": "stream",
          "name": "stdout",
          "text": [
            "15/15 [==============================] - 1s 61ms/step - loss: 0.0698 - accuracy: 0.9979\n",
            "3/3 [==============================] - 0s 53ms/step - loss: 0.7965 - accuracy: 0.8026\n",
            "train acc 0.9979079365730286\n",
            "test acc 0.8026315569877625\n"
          ]
        }
      ]
    },
    {
      "cell_type": "code",
      "source": [
        "# take the class that is most likely to be the correct one based on model's opinion\n",
        "y_pred = model_RCNNi1.predict(XTEST)"
      ],
      "metadata": {
        "id": "27E25DWH7vLr"
      },
      "execution_count": null,
      "outputs": []
    },
    {
      "cell_type": "code",
      "source": [
        "predicted = np.argmax(y_pred, axis=1)"
      ],
      "metadata": {
        "id": "uama9MXC7x70"
      },
      "execution_count": null,
      "outputs": []
    },
    {
      "cell_type": "code",
      "source": [
        "# model metrics to be defined \n",
        "from sklearn.metrics import confusion_matrix, classification_report\n"
      ],
      "metadata": {
        "id": "IUa34cQO8DfQ"
      },
      "execution_count": null,
      "outputs": []
    },
    {
      "cell_type": "code",
      "source": [
        " target_name = ['Asking for information', 'NAN', 'Providing information']"
      ],
      "metadata": {
        "id": "gOo44Xu58Hpe"
      },
      "execution_count": null,
      "outputs": []
    },
    {
      "cell_type": "code",
      "source": [
        "# print classification report \n",
        "print(metrics.classification_report(np.argmax(y_test, axis=1), predicted , target_names=target_name))"
      ],
      "metadata": {
        "colab": {
          "base_uri": "https://localhost:8080/"
        },
        "id": "E4la7WQn8K4L",
        "outputId": "5a5e83f3-0c15-45ce-f857-4c5c2e8ab81b"
      },
      "execution_count": null,
      "outputs": [
        {
          "output_type": "stream",
          "name": "stdout",
          "text": [
            "                        precision    recall  f1-score   support\n",
            "\n",
            "Asking for information       0.70      0.67      0.68        21\n",
            "                   NAN       0.75      0.67      0.71         9\n",
            " Providing information       0.85      0.89      0.87        46\n",
            "\n",
            "              accuracy                           0.80        76\n",
            "             macro avg       0.77      0.74      0.75        76\n",
            "          weighted avg       0.80      0.80      0.80        76\n",
            "\n"
          ]
        }
      ]
    },
    {
      "cell_type": "code",
      "source": [
        "# create a confusion matrix and chart it\n",
        "cm = confusion_matrix(np.argmax(y_test, axis=1), predicted )\n",
        "df_cm = pd.DataFrame(cm, index=target_name, columns=target_name)"
      ],
      "metadata": {
        "id": "6H9yx6a_8Kvp"
      },
      "execution_count": null,
      "outputs": []
    },
    {
      "cell_type": "code",
      "source": [
        "# data visualization at the time of data import and model metrics\n",
        "import seaborn as sns\n",
        "# we can set the parameters for each plot \n",
        "from pylab import rcParams\n",
        "import matplotlib.pyplot as plt\n",
        "from matplotlib.ticker import MaxNLocator\n",
        "from matplotlib import rc\n"
      ],
      "metadata": {
        "id": "tjUYYetP8KXE"
      },
      "execution_count": null,
      "outputs": []
    },
    {
      "cell_type": "code",
      "source": [
        "# using a heatmap from seaborn to visualize the confusion matric\n",
        "hmap = sns.heatmap(df_cm, annot=True, fmt=\"d\")\n",
        "hmap.yaxis.set_ticklabels(hmap.yaxis.get_ticklabels(), rotation=0, ha='right')\n",
        "hmap.xaxis.set_ticklabels(hmap.xaxis.get_ticklabels(), rotation=30, ha='right')\n",
        "plt.ylabel('True label')\n",
        "plt.xlabel('Predicted label');"
      ],
      "metadata": {
        "colab": {
          "base_uri": "https://localhost:8080/",
          "height": 334
        },
        "id": "NONsTTo48Rqh",
        "outputId": "3bcc34c4-4556-40a4-c095-a29f5fb32493"
      },
      "execution_count": null,
      "outputs": [
        {
          "output_type": "display_data",
          "data": {
            "image/png": "[encoded data removed]",
            "text/plain": [
              "<Figure size 432x288 with 2 Axes>"
            ]
          },
          "metadata": {
            "needs_background": "light"
          }
        }
      ]
    }
  ]
}