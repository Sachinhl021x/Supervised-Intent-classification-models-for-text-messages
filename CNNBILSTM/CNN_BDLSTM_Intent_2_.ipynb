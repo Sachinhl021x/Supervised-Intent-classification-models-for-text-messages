{
  "nbformat": 4,
  "nbformat_minor": 0,
  "metadata": {
    "colab": {
      "name": "Intent 2 CNN_BDLSTM_M1.ipynb",
      "provenance": [],
      "collapsed_sections": []
    },
    "kernelspec": {
      "name": "python3",
      "display_name": "Python 3"
    },
    "language_info": {
      "name": "python"
    },
    "accelerator": "GPU"
  },
  "cells": [
    {
      "cell_type": "code",
      "metadata": {
        "colab": {
          "base_uri": "https://localhost:8080/"
        },
        "id": "guott3kGTrxa",
        "outputId": "a8365801-41fc-4f9c-ef0e-e1634f9a3a62"
      },
      "source": [
        "from google.colab import drive\n",
        "drive.mount('/content/drive')"
      ],
      "execution_count": 1,
      "outputs": [
        {
          "output_type": "stream",
          "name": "stdout",
          "text": [
            "Mounted at /content/drive\n"
          ]
        }
      ]
    },
    {
      "cell_type": "code",
      "source": [
        "from keras.preprocessing import sequence\n",
        "from keras.models import Sequential\n",
        "from keras.layers import Dense, Dropout, Activation\n",
        "from keras.layers import Embedding\n",
        "from keras.layers import LSTM\n",
        "from keras.layers import Conv1D, MaxPooling1D\n",
        "from keras.layers.pooling import GlobalMaxPooling1D\n",
        "from keras.layers import Bidirectional\n",
        "from keras import initializers, regularizers, optimizers, layers\n",
        "from keras.models import load_model\n",
        "from sklearn import metrics\n",
        "from keras.utils.np_utils import to_categorical\n",
        "from keras.preprocessing.text import Tokenizer\n",
        "from keras.preprocessing.sequence import pad_sequences\n",
        "from sklearn.model_selection import train_test_split\n",
        "import numpy as np\n",
        "import pandas as pd\n",
        "import os\n",
        "import tensorflow as tf\n",
        "from tensorflow import keras"
      ],
      "metadata": {
        "id": "T5JHY-ON4jsi"
      },
      "execution_count": 2,
      "outputs": []
    },
    {
      "cell_type": "code",
      "metadata": {
        "id": "OArVbJGpFtsE"
      },
      "source": [
        "def loadData_Tokenizer(X_train, X_val, X_test, MAX_NB_WORDS=5000,MAX_SEQUENCE_LENGTH=128):\n",
        "    np.random.seed(7)\n",
        "    text = np.array(X_train)\n",
        "    tokenizer = Tokenizer(num_words=MAX_NB_WORDS)\n",
        "    tokenizer.fit_on_texts(text)\n",
        "    sequences = tokenizer.texts_to_sequences(text)\n",
        "    word_index = tokenizer.word_index\n",
        "    text = pad_sequences(sequences, maxlen=MAX_SEQUENCE_LENGTH)\n",
        "    X_train = text\n",
        "    sequences = tokenizer.texts_to_sequences(X_val)\n",
        "    X_val = pad_sequences(sequences, maxlen=MAX_SEQUENCE_LENGTH)\n",
        "\n",
        "    sequences = tokenizer.texts_to_sequences(X_test)\n",
        "    X_test = pad_sequences(sequences, maxlen=MAX_SEQUENCE_LENGTH)\n",
        "\n",
        "\n",
        "    embeddings_index = {}\n",
        "    with open(os.path.join('/content/drive/MyDrive', 'glove.6B.100d.txt')) as f:\n",
        "      for line in f:\n",
        "          values = line.split()\n",
        "          word = values[0]\n",
        "          try:\n",
        "              coefs = np.asarray(values[1:], dtype='float32')\n",
        "          except:\n",
        "             pass\n",
        "          embeddings_index[word] = coefs\n",
        "      f.close()\n",
        "    return (X_train, X_val,X_test, word_index,embeddings_index)"
      ],
      "execution_count": 17,
      "outputs": []
    },
    {
      "cell_type": "code",
      "metadata": {
        "id": "Q8lZ3R3_Ge5y"
      },
      "source": [
        "def Build_Model_RCNN_Text(word_index, embeddings_index, nclasses, MAX_SEQUENCE_LENGTH=128, EMBEDDING_DIM=100):\n",
        "\n",
        "    kernel_size = 4\n",
        "    filters = 100\n",
        "    pool_size = 5\n",
        "    gru_node = 128\n",
        "\n",
        "    embedding_matrix = np.random.random((len(word_index) + 1, EMBEDDING_DIM))\n",
        "    for word, i in word_index.items():\n",
        "        embedding_vector = embeddings_index.get(word)\n",
        "        if embedding_vector is not None:\n",
        "            # words not found in embedding index will be all-zeros.\n",
        "            if len(embedding_matrix[i]) !=len(embedding_vector):\n",
        "                print(\"could not broadcast input array from shape\",str(len(embedding_matrix[i])),\n",
        "                                 \"into shape\",str(len(embedding_vector)),\" Please make sure your\"\n",
        "                                 \" EMBEDDING_DIM is equal to embedding_vector file ,GloVe,\")\n",
        "                exit(1)\n",
        "\n",
        "            embedding_matrix[i] = embedding_vector\n",
        "\n",
        " \n",
        "    model = Sequential()\n",
        "    model.add(Embedding(len(word_index) + 1,\n",
        "                                EMBEDDING_DIM,\n",
        "                                weights=[embedding_matrix],\n",
        "                                input_length=MAX_SEQUENCE_LENGTH,\n",
        "                                trainable=False))\n",
        "    model.add(Conv1D(filters=100, kernel_size=5,padding='same', activation='relu'))\n",
        "    model.add(MaxPooling1D(pool_size=2))\n",
        "    model.add(Bidirectional(LSTM(128, return_sequences=True,name='lstm_layer',dropout=0.3,recurrent_dropout=0.5)))\n",
        "    #model.add(Bidirectional(LSTM(128, return_sequences=True,name='lstm_layer',dropout=0.4,recurrent_dropout=0.5)))\n",
        "    model.add(GlobalMaxPooling1D())\n",
        "    model.add(Dense(units=512, activation=\"relu\",\n",
        "    kernel_regularizer=regularizers.l1_l2(l1=1e-5, l2=1e-4),\n",
        "    bias_regularizer=regularizers.l2(1e-4),\n",
        "    activity_regularizer=regularizers.l2(1e-5)))\n",
        "    model.add(Dropout(rate=0.4))\n",
        "    model.add(Dense(7, activation=\"softmax\"))\n",
        "    opt = keras.optimizers.Adam(learning_rate=0.0003,beta_1=0.9,\n",
        "    beta_2=0.999,\n",
        "    epsilon=1e-7,\n",
        "    amsgrad=False,\n",
        "    name=\"Adam\")\n",
        "    model.compile(loss='categorical_crossentropy',\n",
        "                  optimizer= opt,\n",
        "                  metrics=['accuracy'])\n",
        "\n",
        "    return model"
      ],
      "execution_count": 18,
      "outputs": []
    },
    {
      "cell_type": "code",
      "metadata": {
        "id": "QAB1J1yBqcCk"
      },
      "source": [
        "def get_data_train():\n",
        "  df = pd.read_csv('/content/traindata_intent2.csv')\n",
        "  df.head()\n",
        "  X=df['body']\n",
        "  Y = df['intent_2'].astype(\"category\")\n",
        "  cat_types= Y.cat.categories\n",
        "  Y_nids = Y.cat.codes\n",
        "  Y = to_categorical(Y_nids, num_classes=7)\n",
        "  return X, Y"
      ],
      "execution_count": 19,
      "outputs": []
    },
    {
      "cell_type": "code",
      "source": [
        "def get_data_val():\n",
        "  df = pd.read_csv('/content/validationdata_intent2.csv')\n",
        "  df.head()\n",
        "  X_v = df['body']\n",
        "  Y = df['intent_2'].astype(\"category\")\n",
        "  cat_types= Y.cat.categories\n",
        "  Y_nids = Y.cat.codes\n",
        "  y_v = to_categorical(Y_nids, num_classes=7)\n",
        "  return X_v, y_v"
      ],
      "metadata": {
        "id": "haHp1fAr6vnN"
      },
      "execution_count": 14,
      "outputs": []
    },
    {
      "cell_type": "code",
      "metadata": {
        "id": "uts74FvlRwJq"
      },
      "source": [
        "def get_data_test():\n",
        "  df = pd.read_csv('/content/testdata_intent2.csv')\n",
        "  df.head()\n",
        "  X_v = df['body']\n",
        "  Y = df['intent_2'].astype(\"category\")\n",
        "  cat_types= Y.cat.categories\n",
        "  Y_nids = Y.cat.codes\n",
        "  y_v = to_categorical(Y_nids, num_classes=7)\n",
        "  return X_v, y_v\n"
      ],
      "execution_count": 15,
      "outputs": []
    },
    {
      "cell_type": "code",
      "metadata": {
        "id": "jt4R19XuGsx0"
      },
      "source": [
        "#X_train, X_test1, y_train, y_test = train_test_split(X,Y, test_size=0.2, random_state=42)\n",
        "X_train,y_train= get_data_train()\n",
        "X_test,y_test= get_data_test()\n",
        "X_val,y_val= get_data_val()\n",
        "\n",
        "XTRAIN,XVAL,XTEST, word_index, embeddings_index = loadData_Tokenizer(X_train,X_val, X_test)"
      ],
      "execution_count": 20,
      "outputs": []
    },
    {
      "cell_type": "code",
      "source": [
        "nclasses=7\n",
        "\n",
        "model_RCNNi1 = Build_Model_RCNN_Text(word_index,embeddings_index, nclasses)\n",
        "\n",
        "\n",
        "model_RCNNi1.summary()"
      ],
      "metadata": {
        "colab": {
          "base_uri": "https://localhost:8080/"
        },
        "id": "4hilSS7xtQn8",
        "outputId": "61932be5-b3bb-4be5-8fd9-5d09cfd37d6c"
      },
      "execution_count": 21,
      "outputs": [
        {
          "output_type": "stream",
          "name": "stdout",
          "text": [
            "WARNING:tensorflow:Layer lstm_layer will not use cuDNN kernels since it doesn't meet the criteria. It will use a generic GPU kernel as fallback when running on GPU.\n",
            "WARNING:tensorflow:Layer lstm_layer will not use cuDNN kernels since it doesn't meet the criteria. It will use a generic GPU kernel as fallback when running on GPU.\n",
            "WARNING:tensorflow:Layer lstm_layer will not use cuDNN kernels since it doesn't meet the criteria. It will use a generic GPU kernel as fallback when running on GPU.\n",
            "Model: \"sequential\"\n",
            "_________________________________________________________________\n",
            " Layer (type)                Output Shape              Param #   \n",
            "=================================================================\n",
            " embedding (Embedding)       (None, 128, 100)          70800     \n",
            "                                                                 \n",
            " conv1d (Conv1D)             (None, 128, 100)          50100     \n",
            "                                                                 \n",
            " max_pooling1d (MaxPooling1D  (None, 64, 100)          0         \n",
            " )                                                               \n",
            "                                                                 \n",
            " bidirectional (Bidirectiona  (None, 64, 256)          234496    \n",
            " l)                                                              \n",
            "                                                                 \n",
            " global_max_pooling1d (Globa  (None, 256)              0         \n",
            " lMaxPooling1D)                                                  \n",
            "                                                                 \n",
            " dense (Dense)               (None, 512)               131584    \n",
            "                                                                 \n",
            " dropout (Dropout)           (None, 512)               0         \n",
            "                                                                 \n",
            " dense_1 (Dense)             (None, 7)                 3591      \n",
            "                                                                 \n",
            "=================================================================\n",
            "Total params: 490,571\n",
            "Trainable params: 419,771\n",
            "Non-trainable params: 70,800\n",
            "_________________________________________________________________\n"
          ]
        }
      ]
    },
    {
      "cell_type": "code",
      "metadata": {
        "colab": {
          "base_uri": "https://localhost:8080/"
        },
        "id": "ujDz5F_iGx6m",
        "outputId": "7ad9ec34-1098-4f9f-f526-5e858c0933b0"
      },
      "source": [
        "#checkpointer = tf.keras.callbacks.ModelCheckpoint(filepath= '/content/drive/MyDrive/Classroom', monitor='val_loss', verbose=2, save_best_only=True, save_weights_only=False, mode='auto', period=1)\n",
        "\n",
        "model_RCNNi1.fit(XTRAIN, y_train,\n",
        "                              validation_data=(XVAL,y_val),\n",
        "                              epochs=30,\n",
        "                              batch_size=12,\n",
        "                              verbose=2)"
      ],
      "execution_count": 22,
      "outputs": [
        {
          "output_type": "stream",
          "name": "stdout",
          "text": [
            "Epoch 1/30\n",
            "36/36 - 32s - loss: 2.0464 - accuracy: 0.1627 - val_loss: 1.9723 - val_accuracy: 0.2817 - 32s/epoch - 898ms/step\n",
            "Epoch 2/30\n",
            "36/36 - 18s - loss: 1.9304 - accuracy: 0.2547 - val_loss: 1.8208 - val_accuracy: 0.3099 - 18s/epoch - 503ms/step\n",
            "Epoch 3/30\n",
            "36/36 - 18s - loss: 1.8187 - accuracy: 0.2759 - val_loss: 1.6921 - val_accuracy: 0.3662 - 18s/epoch - 494ms/step\n",
            "Epoch 4/30\n",
            "36/36 - 21s - loss: 1.7395 - accuracy: 0.3208 - val_loss: 1.6382 - val_accuracy: 0.3662 - 21s/epoch - 579ms/step\n",
            "Epoch 5/30\n",
            "36/36 - 18s - loss: 1.6254 - accuracy: 0.3797 - val_loss: 1.5523 - val_accuracy: 0.3944 - 18s/epoch - 507ms/step\n",
            "Epoch 6/30\n",
            "36/36 - 18s - loss: 1.5433 - accuracy: 0.4104 - val_loss: 1.4576 - val_accuracy: 0.4507 - 18s/epoch - 494ms/step\n",
            "Epoch 7/30\n",
            "36/36 - 19s - loss: 1.3996 - accuracy: 0.4788 - val_loss: 1.3757 - val_accuracy: 0.5634 - 19s/epoch - 516ms/step\n",
            "Epoch 8/30\n",
            "36/36 - 18s - loss: 1.3721 - accuracy: 0.4858 - val_loss: 1.2740 - val_accuracy: 0.5493 - 18s/epoch - 490ms/step\n",
            "Epoch 9/30\n",
            "36/36 - 17s - loss: 1.2702 - accuracy: 0.5495 - val_loss: 1.1886 - val_accuracy: 0.5775 - 17s/epoch - 486ms/step\n",
            "Epoch 10/30\n",
            "36/36 - 18s - loss: 1.1397 - accuracy: 0.5967 - val_loss: 1.2052 - val_accuracy: 0.5775 - 18s/epoch - 491ms/step\n",
            "Epoch 11/30\n",
            "36/36 - 18s - loss: 1.0647 - accuracy: 0.6085 - val_loss: 1.0614 - val_accuracy: 0.6056 - 18s/epoch - 508ms/step\n",
            "Epoch 12/30\n",
            "36/36 - 17s - loss: 0.9281 - accuracy: 0.7028 - val_loss: 1.1383 - val_accuracy: 0.6338 - 17s/epoch - 478ms/step\n",
            "Epoch 13/30\n",
            "36/36 - 17s - loss: 0.8314 - accuracy: 0.7476 - val_loss: 0.9592 - val_accuracy: 0.6901 - 17s/epoch - 486ms/step\n",
            "Epoch 14/30\n",
            "36/36 - 17s - loss: 0.7518 - accuracy: 0.7665 - val_loss: 0.9349 - val_accuracy: 0.6620 - 17s/epoch - 480ms/step\n",
            "Epoch 15/30\n",
            "36/36 - 18s - loss: 0.6313 - accuracy: 0.8208 - val_loss: 0.8673 - val_accuracy: 0.7606 - 18s/epoch - 487ms/step\n",
            "Epoch 16/30\n",
            "36/36 - 17s - loss: 0.6078 - accuracy: 0.8113 - val_loss: 0.8602 - val_accuracy: 0.7324 - 17s/epoch - 480ms/step\n",
            "Epoch 17/30\n",
            "36/36 - 17s - loss: 0.5176 - accuracy: 0.8608 - val_loss: 0.8174 - val_accuracy: 0.7606 - 17s/epoch - 484ms/step\n",
            "Epoch 18/30\n",
            "36/36 - 18s - loss: 0.4413 - accuracy: 0.8821 - val_loss: 0.8513 - val_accuracy: 0.7324 - 18s/epoch - 487ms/step\n",
            "Epoch 19/30\n",
            "36/36 - 18s - loss: 0.3669 - accuracy: 0.9269 - val_loss: 0.8583 - val_accuracy: 0.7324 - 18s/epoch - 489ms/step\n",
            "Epoch 20/30\n",
            "36/36 - 18s - loss: 0.3879 - accuracy: 0.8892 - val_loss: 0.8312 - val_accuracy: 0.7324 - 18s/epoch - 497ms/step\n",
            "Epoch 21/30\n",
            "36/36 - 18s - loss: 0.2892 - accuracy: 0.9363 - val_loss: 0.8463 - val_accuracy: 0.7465 - 18s/epoch - 500ms/step\n",
            "Epoch 22/30\n",
            "36/36 - 17s - loss: 0.2871 - accuracy: 0.9410 - val_loss: 0.8926 - val_accuracy: 0.7606 - 17s/epoch - 484ms/step\n",
            "Epoch 23/30\n",
            "36/36 - 17s - loss: 0.2514 - accuracy: 0.9552 - val_loss: 0.8766 - val_accuracy: 0.7606 - 17s/epoch - 483ms/step\n",
            "Epoch 24/30\n",
            "36/36 - 18s - loss: 0.2840 - accuracy: 0.9434 - val_loss: 0.8045 - val_accuracy: 0.7465 - 18s/epoch - 494ms/step\n",
            "Epoch 25/30\n",
            "36/36 - 17s - loss: 0.2308 - accuracy: 0.9505 - val_loss: 0.8055 - val_accuracy: 0.7606 - 17s/epoch - 481ms/step\n",
            "Epoch 26/30\n",
            "36/36 - 18s - loss: 0.2027 - accuracy: 0.9764 - val_loss: 0.7391 - val_accuracy: 0.7887 - 18s/epoch - 495ms/step\n",
            "Epoch 27/30\n",
            "36/36 - 18s - loss: 0.1911 - accuracy: 0.9693 - val_loss: 0.7960 - val_accuracy: 0.7606 - 18s/epoch - 489ms/step\n",
            "Epoch 28/30\n",
            "36/36 - 18s - loss: 0.1702 - accuracy: 0.9788 - val_loss: 0.7850 - val_accuracy: 0.7746 - 18s/epoch - 487ms/step\n",
            "Epoch 29/30\n",
            "36/36 - 18s - loss: 0.1564 - accuracy: 0.9788 - val_loss: 0.9248 - val_accuracy: 0.7465 - 18s/epoch - 492ms/step\n",
            "Epoch 30/30\n",
            "36/36 - 17s - loss: 0.1370 - accuracy: 0.9858 - val_loss: 0.7988 - val_accuracy: 0.8028 - 17s/epoch - 485ms/step\n"
          ]
        },
        {
          "output_type": "execute_result",
          "data": {
            "text/plain": [
              "<keras.callbacks.History at 0x7f09f6797290>"
            ]
          },
          "metadata": {},
          "execution_count": 22
        }
      ]
    },
    {
      "cell_type": "code",
      "source": [
        "# evaluate the test accuracy , call evaluate method and give the data \n",
        "_, train_acc = model_RCNNi1.evaluate(XTRAIN, y_train)\n",
        "_, test_acc = model_RCNNi1.evaluate(XTEST, y_test)\n",
        "\n",
        "print(\"train acc\", train_acc)\n",
        "print(\"test acc\", test_acc)"
      ],
      "metadata": {
        "colab": {
          "base_uri": "https://localhost:8080/"
        },
        "id": "69oLSt947jxI",
        "outputId": "85b7c093-c4be-4826-f93c-f7e3ce7c02f3"
      },
      "execution_count": 23,
      "outputs": [
        {
          "output_type": "stream",
          "name": "stdout",
          "text": [
            "14/14 [==============================] - 1s 38ms/step - loss: 0.0939 - accuracy: 0.9953\n",
            "3/3 [==============================] - 0s 40ms/step - loss: 1.1086 - accuracy: 0.7606\n",
            "train acc 0.9952830076217651\n",
            "test acc 0.7605633735656738\n"
          ]
        }
      ]
    },
    {
      "cell_type": "code",
      "source": [
        "# take the class that is most likely to be the correct one based on model's opinion\n",
        "y_pred = model_RCNNi1.predict(XTEST)"
      ],
      "metadata": {
        "id": "27E25DWH7vLr"
      },
      "execution_count": 24,
      "outputs": []
    },
    {
      "cell_type": "code",
      "source": [
        "predicted = np.argmax(y_pred, axis=1)"
      ],
      "metadata": {
        "id": "uama9MXC7x70"
      },
      "execution_count": 25,
      "outputs": []
    },
    {
      "cell_type": "code",
      "source": [
        "# model metrics to be defined \n",
        "from sklearn.metrics import confusion_matrix, classification_report\n"
      ],
      "metadata": {
        "id": "IUa34cQO8DfQ"
      },
      "execution_count": 26,
      "outputs": []
    },
    {
      "cell_type": "code",
      "source": [
        " target_names = ['Dependencies between design parameters',\n",
        "       'Effects of design parameters on objectives',\n",
        "       'Exploration of design parameter values', 'Monitoring objective values',\n",
        "       'NAN', 'Selected design parameter values for objective(s)',\n",
        "       'Tradeoff between objectives']"
      ],
      "metadata": {
        "id": "gOo44Xu58Hpe"
      },
      "execution_count": 28,
      "outputs": []
    },
    {
      "cell_type": "code",
      "source": [
        "# print classification report \n",
        "print(metrics.classification_report(np.argmax(y_test, axis=1), predicted , target_names=target_names))"
      ],
      "metadata": {
        "colab": {
          "base_uri": "https://localhost:8080/"
        },
        "id": "E4la7WQn8K4L",
        "outputId": "477d5cb3-3a56-4bc0-d613-a16f993e4dbc"
      },
      "execution_count": 29,
      "outputs": [
        {
          "output_type": "stream",
          "name": "stdout",
          "text": [
            "                                                   precision    recall  f1-score   support\n",
            "\n",
            "           Dependencies between design parameters       0.75      0.67      0.71         9\n",
            "       Effects of design parameters on objectives       0.78      0.64      0.70        11\n",
            "           Exploration of design parameter values       1.00      0.70      0.82        10\n",
            "                      Monitoring objective values       0.71      1.00      0.83        12\n",
            "                                              NAN       0.90      0.75      0.82        12\n",
            "Selected design parameter values for objective(s)       0.50      0.56      0.53         9\n",
            "                      Tradeoff between objectives       0.80      1.00      0.89         8\n",
            "\n",
            "                                         accuracy                           0.76        71\n",
            "                                        macro avg       0.78      0.76      0.76        71\n",
            "                                     weighted avg       0.78      0.76      0.76        71\n",
            "\n"
          ]
        }
      ]
    },
    {
      "cell_type": "code",
      "source": [
        "# create a confusion matrix and chart it\n",
        "cm = confusion_matrix(np.argmax(y_test, axis=1), predicted )\n",
        "df_cm = pd.DataFrame(cm, index=target_names, columns=target_names)"
      ],
      "metadata": {
        "id": "6H9yx6a_8Kvp"
      },
      "execution_count": 30,
      "outputs": []
    },
    {
      "cell_type": "code",
      "source": [
        "# data visualization at the time of data import and model metrics\n",
        "import seaborn as sns\n",
        "# we can set the parameters for each plot \n",
        "from pylab import rcParams\n",
        "import matplotlib.pyplot as plt\n",
        "from matplotlib.ticker import MaxNLocator\n",
        "from matplotlib import rc\n"
      ],
      "metadata": {
        "id": "tjUYYetP8KXE"
      },
      "execution_count": 31,
      "outputs": []
    },
    {
      "cell_type": "code",
      "source": [
        "# using a heatmap from seaborn to visualize the confusion matric\n",
        "hmap = sns.heatmap(df_cm, annot=True, fmt=\"d\")\n",
        "hmap.yaxis.set_ticklabels(hmap.yaxis.get_ticklabels(), rotation=0, ha='right')\n",
        "hmap.xaxis.set_ticklabels(hmap.xaxis.get_ticklabels(), rotation=30, ha='right')\n",
        "plt.ylabel('True label')\n",
        "plt.xlabel('Predicted label');"
      ],
      "metadata": {
        "colab": {
          "base_uri": "https://localhost:8080/",
          "height": 407
        },
        "id": "NONsTTo48Rqh",
        "outputId": "0044bf0a-1c0b-44cc-fdf3-71db2cf2cd83"
      },
      "execution_count": 32,
      "outputs": [
        {
          "output_type": "display_data",
          "data": {
            "image/png": "[encoded data removed]",
            "text/plain": [
              "<Figure size 432x288 with 2 Axes>"
            ]
          },
          "metadata": {
            "needs_background": "light"
          }
        }
      ]
    }
  ]
}